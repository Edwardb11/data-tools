{
  "nbformat": 4,
  "nbformat_minor": 0,
  "metadata": {
    "colab": {
      "provenance": [],
      "toc_visible": true
    },
    "kernelspec": {
      "name": "python3",
      "display_name": "Python 3"
    },
    "language_info": {
      "name": "python"
    }
  },
  "cells": [
    {
      "cell_type": "markdown",
      "source": [
        "# <div align=\"center\">🙍🏻‍♂️Presentación👨‍💻 \n",
        "<div align=\"center\" >\n",
        "  <img alt=\"logo-ucateci\" height=\"150\" src=\"https://www.ucateci.edu.do/images/archivos/logo/Logo-UCATECI-2.png\">\n",
        "\n",
        "\n",
        "<b>Materia:</b>\n",
        "\n",
        "Lenguaje de Programación\n",
        "\n",
        "<b>Maestro:</b>\n",
        "\n",
        "Lizandro Ramirez\n",
        "\n",
        "<b> Tema: </b>\n",
        "\n",
        "Jupyter\n",
        "\n",
        "<b>Fecha de entrega:</b>\n",
        "\n",
        "11/02/2023  \n",
        "\n",
        "<br/>\n",
        "</div>\n",
        "</div>\n",
        "<h4/>"
      ],
      "metadata": {
        "id": "xbCBAbbN1zrN"
      }
    },
    {
      "cell_type": "markdown",
      "source": [
        "\n",
        "## Ejercicio 01\n",
        "\n",
        "_Escribir un programa que almacene el diccionario con los créditos de las asignaturas de un curso ```\n",
        "{'Matemáticas': 6, 'Física': 4, 'Química': 5} ```\n",
        "y después muestre por pantalla los créditos de cada asignatura en el formato ```\n",
        "<asignatura>```\n",
        " tiene ``` <créditos> ``` créditos, donde <asignatura> es cada una de las asignaturas del curso, y ```<créditos> ``` son sus  créditos. Al final debe mostrar también el número total de créditos del curso._\n",
        "\n",
        "\n",
        "## Autor\n",
        "\n",
        "- [@Edwardb11](https://github.com/Edwardb11)\n",
        "\n"
      ],
      "metadata": {
        "id": "zh7w1u3FIsBX"
      }
    },
    {
      "cell_type": "code",
      "source": [
        "asignaturas = {'Matemáticas': 6, 'Física': 4, 'Química': 5}\n",
        "\n",
        "total_creditos = 0\n",
        "\n",
        "for asignatura, creditos in asignaturas.items():\n",
        "    print(f'{asignatura} tiene {creditos} créditos')\n",
        "    total_creditos += creditos\n",
        "\n",
        "print(f'El número total de créditos del curso es {total_creditos}')"
      ],
      "metadata": {
        "colab": {
          "base_uri": "https://localhost:8080/"
        },
        "id": "0AQusj2Uzk9T",
        "outputId": "50531a38-1bd1-4393-d6bc-421eca8fe459"
      },
      "execution_count": null,
      "outputs": [
        {
          "output_type": "stream",
          "name": "stdout",
          "text": [
            "Matemáticas tiene 6 créditos\n",
            "Física tiene 4 créditos\n",
            "Química tiene 5 créditos\n",
            "El número total de créditos del curso es 15\n"
          ]
        }
      ]
    },
    {
      "cell_type": "markdown",
      "source": [
        "\n",
        "## Ejercicio 02\n",
        "\n",
        "_Dados cinco enteros positivos, encuentre los valores **mínimos** y **máximos** que se pueden calcular **sumando exactamente cuatro de los cinco enteros.** A continuación, imprima los valores mínimo y máximo respectivos como una sola línea de dos enteros largos separados por espacios._\n",
        "\n",
        "``` Example \n",
        "input:\tarr = [1, 3, 5, 7, 9] \n",
        "\n",
        "La suma mínima es 1+3+5+7 = 16 y la máxima suma es 3 + 5 + 7 + 9 = 24 \n",
        "\n",
        "Output: 16 24 \n",
        "```\n",
        "\n",
        "\n",
        "## Autor\n",
        "\n",
        "- [@Edwardb11](https://github.com/Edwardb11)\n",
        "\n",
        "\n",
        "\n"
      ],
      "metadata": {
        "id": "F_A1L-FFz5-1"
      }
    },
    {
      "cell_type": "code",
      "source": [
        "\n",
        "\"\"\"\n",
        "Toma una lista de números y devuelve una tupla que contiene la suma de los primeros cuatro números más pequeños y la suma de los últimos cuatro números más grandes de la lista.\n",
        "\n",
        "Args:\n",
        "    arr (list): Una lista de números enteros.\n",
        "\n",
        "Returns:\n",
        "    tuple: Una tupla con dos enteros, la suma de los primeros cuatro números más pequeños y la suma de los últimos cuatro números más grandes de la lista.\n",
        "\n",
        "Ejemplo:\n",
        "    >>> arr = [1, 3, 5, 7, 9]\n",
        "    >>> min_and_max_sum(arr)\n",
        "    (16, 24)\n",
        "\"\"\"\n",
        "def min_and_max_sum(arr):\n",
        "\n",
        "    arr.sort()\n",
        "    min_sum = sum(arr[:4])\n",
        "    max_sum = sum(arr[-4:])\n",
        "    return (min_sum, max_sum)\n",
        "\n",
        "arr = [1, 3, 5, 7, 9]\n",
        "min_sum, max_sum = min_and_max_sum(arr)\n",
        "print(min_sum, max_sum)"
      ],
      "metadata": {
        "colab": {
          "base_uri": "https://localhost:8080/"
        },
        "id": "kPrhyqTk0xpj",
        "outputId": "e3a42ce1-51b8-4d25-acc7-ee7f32ce6a3c"
      },
      "execution_count": 5,
      "outputs": [
        {
          "output_type": "stream",
          "name": "stdout",
          "text": [
            "16 24\n"
          ]
        }
      ]
    }
  ]
}